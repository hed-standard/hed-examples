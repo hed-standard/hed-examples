{
 "cells": [
  {
   "cell_type": "markdown",
   "metadata": {
    "collapsed": true,
    "pycharm": {
     "name": "#%% md\n"
    }
   },
   "source": [
    "Restore the files from the backup.\n",
    "\n",
    "| parameter | default | dest | other | meaning |\n",
    "| --------- | ------- | ---- | ----- | ------- |\n",
    "| data_dir  |         | data_dir |    | Full path of dataset root directory. |\n",
<<<<<<< HEAD
<<<<<<< HEAD
    "| -n, --backup_name | default_back | backup_name |   | Name of the default backup for remodeling. |\n",
=======
    "| -n, --backup_name | default_back | backup_name | Name of the default backup for remodeling. |\n",
>>>>>>> af3a0cc6d5d4e759fcb9a50dc105fd598fa04575
=======
    "| -n, --backup_name | default_back | backup_name | Name of the default backup for remodeling. |\n",
>>>>>>> d9034a30b45b55fbe1658968fdf1b6e47f9dd6eb
    "| -v, --verbose|   | verbose | action=store_true | If present, output informative messages as computation progresses. |\n"
   ]
  },
  {
   "cell_type": "code",
   "execution_count": 2,
   "outputs": [],
   "source": [
    "import os\n",
    "import hed.tools.remodeling.cli.run_remodel_restore as cli_restore\n",
    "\n",
    "data_dir = os.path.realpath('../../../datasets/eeg_ds003654s_hed_remodel')\n",
    "arg_list = [data_dir, '-n', 'default_back']\n",
    "cli_restore.main(arg_list)\n"
   ],
   "metadata": {
    "collapsed": false,
    "pycharm": {
     "name": "#%% Run restore\n"
    }
   }
  }
 ],
 "metadata": {
  "kernelspec": {
   "display_name": "Python 3",
   "language": "python",
   "name": "python3"
  },
  "language_info": {
   "codemirror_mode": {
    "name": "ipython",
    "version": 2
   },
   "file_extension": ".py",
   "mimetype": "text/x-python",
   "name": "python",
   "nbconvert_exporter": "python",
   "pygments_lexer": "ipython2",
   "version": "2.7.6"
  }
 },
 "nbformat": 4,
 "nbformat_minor": 0
}